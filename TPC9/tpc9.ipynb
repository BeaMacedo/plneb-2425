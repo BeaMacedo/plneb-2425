{
 "cells": [
  {
   "cell_type": "code",
   "execution_count": null,
   "id": "80c99437",
   "metadata": {},
   "outputs": [
    {
     "name": "stdout",
     "output_type": "stream",
     "text": [
      "Note: you may need to restart the kernel to use updated packages.Collecting gensim\n",
      "  Using cached gensim-4.3.3-cp310-cp310-win_amd64.whl.metadata (8.2 kB)\n",
      "Requirement already satisfied: numpy<2.0,>=1.18.5 in c:\\users\\beatr\\appdata\\local\\packages\\pythonsoftwarefoundation.python.3.10_qbz5n2kfra8p0\\localcache\\local-packages\\python310\\site-packages (from gensim) (1.26.4)\n",
      "Collecting scipy<1.14.0,>=1.7.0 (from gensim)\n",
      "  Using cached scipy-1.13.1-cp310-cp310-win_amd64.whl.metadata (60 kB)\n",
      "Collecting smart-open>=1.8.1 (from gensim)\n",
      "  Using cached smart_open-7.1.0-py3-none-any.whl.metadata (24 kB)\n",
      "Requirement already satisfied: wrapt in c:\\users\\beatr\\appdata\\local\\packages\\pythonsoftwarefoundation.python.3.10_qbz5n2kfra8p0\\localcache\\local-packages\\python310\\site-packages (from smart-open>=1.8.1->gensim) (1.17.2)\n",
      "Using cached gensim-4.3.3-cp310-cp310-win_amd64.whl (24.0 MB)\n",
      "Using cached scipy-1.13.1-cp310-cp310-win_amd64.whl (46.2 MB)\n",
      "Using cached smart_open-7.1.0-py3-none-any.whl (61 kB)\n",
      "Installing collected packages: smart-open, scipy, gensim\n",
      "  Attempting uninstall: scipy\n",
      "    Found existing installation: scipy 1.14.1\n",
      "    Uninstalling scipy-1.14.1:\n",
      "      Successfully uninstalled scipy-1.14.1\n",
      "Successfully installed gensim-4.3.3 scipy-1.13.1 smart-open-7.1.0\n",
      "\n"
     ]
    },
    {
     "name": "stderr",
     "output_type": "stream",
     "text": [
      "WARNING: Ignoring invalid distribution -umpy (c:\\users\\beatr\\appdata\\local\\packages\\pythonsoftwarefoundation.python.3.10_qbz5n2kfra8p0\\localcache\\local-packages\\python310\\site-packages)\n",
      "WARNING: Ignoring invalid distribution -umpy (c:\\users\\beatr\\appdata\\local\\packages\\pythonsoftwarefoundation.python.3.10_qbz5n2kfra8p0\\localcache\\local-packages\\python310\\site-packages)\n",
      "WARNING: Ignoring invalid distribution -umpy (c:\\users\\beatr\\appdata\\local\\packages\\pythonsoftwarefoundation.python.3.10_qbz5n2kfra8p0\\localcache\\local-packages\\python310\\site-packages)\n",
      "\n",
      "[notice] A new release of pip is available: 24.3.1 -> 25.1.1\n",
      "[notice] To update, run: C:\\Users\\beatr\\AppData\\Local\\Microsoft\\WindowsApps\\PythonSoftwareFoundation.Python.3.10_qbz5n2kfra8p0\\python.exe -m pip install --upgrade pip\n"
     ]
    }
   ],
   "source": [
    "#%pip install gensim"
   ]
  },
  {
   "cell_type": "code",
   "execution_count": 8,
   "id": "7f46bbb5",
   "metadata": {},
   "outputs": [],
   "source": [
    "from gensim.models import Word2Vec\n",
    "import gensim\n",
    "\n",
    "# Função para carregar e tokenizar um ficheiro\n",
    "def carregar_tokenizar(ficheiro):\n",
    "    with open(ficheiro, 'r', encoding='utf-8') as f:\n",
    "        linhas = f.readlines()\n",
    "    sentences = [list(gensim.utils.tokenize(linha, lower=True)) for linha in linhas if linha.strip()]\n",
    "    return sentences\n",
    "\n",
    "# Carregar e tokenizar os dois documentos\n",
    "sentences1 = carregar_tokenizar(\"data/Harry_Potter_Camara_Secreta-br.txt\")\n",
    "sentences2 = carregar_tokenizar(\"data/Harry_Potter_e_A_Pedra_Filosofal.txt\")\n",
    "\n",
    "\n",
    "# Juntar os dados dos dois\n",
    "sentences = sentences1 + sentences2\n",
    "#print(sentences)"
   ]
  },
  {
   "cell_type": "code",
   "execution_count": 11,
   "id": "67f2f397",
   "metadata": {},
   "outputs": [],
   "source": [
    "# Treinar o modelo Word2Vec com todos os dados juntos\n",
    "#model = Word2Vec(sentences, vector_size=100, window=5, min_count=1, sg=1, epochs=20, workers=3)\n",
    "model = Word2Vec(sentences, vector_size=300, epochs=20) \n",
    "#print(f\"vetor correspondente à palavra filosofal:{model.wv['filosofal']}\")"
   ]
  },
  {
   "cell_type": "code",
   "execution_count": 12,
   "id": "826e7ca9",
   "metadata": {},
   "outputs": [
    {
     "name": "stdout",
     "output_type": "stream",
     "text": [
      "vetor da palavra harry: [ 0.18633907 -0.14327139 -0.44351152  0.22493154  0.3501097  -0.18035886\n",
      " -0.0927549   0.28873092  0.12283105  0.40836167 -0.06311964 -0.48852864\n",
      " -0.31014758  0.04348724 -0.30271494 -0.1162966   0.00530188  0.26785976\n",
      "  0.2536006   0.15799576  0.0157217  -0.19550449 -0.19308294  0.06706604\n",
      " -0.5288953   0.05585687  0.20932747  0.14148411 -0.21084608 -0.3423047\n",
      " -0.06743071  0.03486347 -0.24198471  0.26211813 -0.12977302  0.66307473\n",
      "  0.238373   -0.41013905 -0.5097182  -0.00416796  0.25348353 -0.53279465\n",
      "  0.00928323  0.5908274  -0.09749027  0.7161161  -0.41349304  0.01564823\n",
      " -0.15726481 -0.76235545 -0.49023917 -0.39834958  0.5516211   0.16262643\n",
      " -0.30428562  0.7471059   0.01713903 -0.24096982  0.66989577  0.27352828\n",
      "  0.19915558 -0.6083064  -0.08180265 -0.3906468  -0.05270348  0.05057281\n",
      "  0.2950096   0.53256905 -0.05030261  0.39964977 -0.26375914 -0.17495017\n",
      " -0.21583386 -0.02164116  0.46914324  0.51286554  0.29973552 -0.06283386\n",
      " -0.49402437 -0.3756349  -0.09240153 -0.07397007 -0.09619527  0.20246328\n",
      " -0.12454975  0.3831546  -0.23248993 -0.02127185  0.29999268 -0.27534956\n",
      " -0.45878732  0.34170204 -0.4008642  -0.26273853 -0.62920135  0.26737553\n",
      "  0.4292016   0.7094362   0.55384445  0.2565021  -0.11488576 -0.47890374\n",
      "  0.11140876  0.16614479 -0.07583629 -0.09886798 -0.15957461 -0.30411318\n",
      "  0.5282598   0.20682395 -0.08832775  0.16982123  0.26132244 -0.13051419\n",
      "  0.11913529 -0.35869297 -0.16941692 -0.37154633  0.21502946 -0.43213275\n",
      "  0.0950623   0.5910067  -0.14547683 -0.03353031  0.10473821  0.61731726\n",
      "  0.05231546 -0.06760918  0.22910093  0.3336399   0.46233544 -0.14275742\n",
      "  0.21029137 -0.6095437  -0.14427242 -0.05374501  0.26077017  0.5140477\n",
      "  0.1024903  -0.6345253  -0.1760284  -0.53942424 -0.14716421  0.10070679\n",
      "  0.2783323  -0.15810242  0.15349688  0.10604268  0.22016041 -0.48819268\n",
      " -0.45543927 -0.41647452  0.10807901  0.41156098  0.23686092  0.045929\n",
      " -0.01719031 -0.06439582  0.07986709 -0.21746242  0.1851558   0.1648553\n",
      "  0.72547305  0.25462207  0.07673499 -0.03905228 -0.04032475  0.82101387\n",
      "  0.45417115  0.3045827  -0.02373418  0.6627431   0.40558258  0.07068459\n",
      " -0.08033761 -0.21915054 -0.09671254 -0.40753713  0.61531866 -0.28124964\n",
      "  0.24371266 -0.45988074 -0.61875963 -0.42486665 -0.5726054  -0.11095783\n",
      "  0.1997958   0.37679407 -0.29661766 -0.28131714  0.8361928   0.5136454\n",
      " -0.19601603  0.7537412  -0.4900689  -0.07667258 -0.23313554 -0.20017174\n",
      " -0.03309333  0.04130233  0.7146881  -0.00646943 -0.21193859 -0.7847795\n",
      "  0.93317926 -0.01569625  0.55727     0.16340907 -0.37517586 -0.174431\n",
      " -0.41493672 -0.87359077  0.32309267 -0.07550652  0.27359954 -0.05989984\n",
      " -0.28551528 -0.12886892  0.44633052 -0.96610236  0.24821408 -0.08324311\n",
      " -0.08817981 -0.3562869   0.12085699 -0.31022245 -0.00939152 -0.2887323\n",
      " -0.2919093   0.2592671   0.01401121  0.46143806 -0.23256978 -0.1178059\n",
      " -0.30156702  0.60257936  0.0288039   0.5216248  -0.00530013 -0.5559503\n",
      "  0.5989267  -0.47563     0.03310249  0.16890885  0.3345933  -1.0234833\n",
      " -0.1142227  -0.28675625  0.26883087  0.30933845  0.7956185   0.34563702\n",
      "  0.44175178 -0.43362617 -0.5724505  -0.00714226  0.64367926  0.0850407\n",
      " -0.60025847 -0.04990182 -0.22182733  0.02130137  0.02373666 -0.74522555\n",
      " -0.4186013  -0.02686012  0.27073237  0.27013215 -0.08189314 -0.68164784\n",
      "  0.13634448 -0.06806815  0.15602274  0.5139868   0.66181797  0.23101325\n",
      "  0.4972651   0.4715816   0.14075832  0.0630431  -0.711017   -0.01086058\n",
      " -0.21634516 -0.23311377  0.3865987   0.25631988  0.15182187  0.25304708\n",
      "  0.5174055  -0.14860345  0.552822    0.2936295   0.6287622   0.24855481\n",
      "  0.3842215   0.36610588  0.23315997  0.07181573  0.09027056 -0.26305574]\n",
      "tamanho do vocabulário: 3263\n",
      "chaves: ['de', 'que', 'a', 'o', 'e', 'harry', 'se', 'não', 'para', 'um', 'uma', 'os', 'com', 'do', 'em', 'ele', 'da', 'disse', 'é', 'no', 'rony', 'na', 'você', 'mas', 'por', 'as', 'mais', 'estava', 'como', 'quando', 'eu', 'era', 'à', 'ao', 'muito', 'foi', 'hagrid', 'está', 'dos', 'coisa', 'me', 'hermione', 'sua', 'seu', 'eles', 'ela', 'bem', 'das', 'cabeça', 'olhos', 'isso', 'até', 'ter', 'dumbledore', 'tinha', 'vez', 'perguntou', 'sem', 'então', 'vai', 'ser', 'lhe', 'só', 'porta', 'lo', 'agora', 'snape', 'já', 'parecia', 'weasley', 'pelo', 'dois', 'fazer', 'potter', 'vocês', 'nada', 'voz', 'lockhart', 'dizer', 'depois', 'todos', 'vamos', 'nunca', 'havia', 'quem', 'alguma', 'aqui', 'seus', 'tão', 'sr', 'pela', 'nem', 'dele', 'nos', 'draco', 'fora', 'lado', 'quase', 'estavam', 'sabe', 'mesmo', 'ainda', 'sala', 'tem', 'ver', 'grifinória', 'ah', 'tempo', 'tinham', 'casa', 'porque', 'meu', 'grande', 'enquanto', 'onde', 'sobre', 'escola', 'varinha', 'hogwarts', 'viu', 'duda', 'malfoy', 'tudo', 'antes', 'senhor', 'outra', 'volta', 'também', 'rosto', 'deu', 'profa', 'tio', 'alunos', 'todo', 'vou', 'noite', 'ou', 'dia', 'chão', 'lá', 'mione', 'válter', 'mão', 'fez', 'cima', 'alto', 'neville', 'dobby', 'melhor', 'respondeu', 'ficou', 'alguém', 'dursley', 'depressa', 'ninguém', 'fred', 'cara', 'três', 'hora', 'pode', 'frente', 'bom', 'dentro', 'acho', 'minha', 'riddle', 'sonserina', 'carro', 'sempre', 'nas', 'estou', 'jorge', 'estar', 'gina', 'aos', 'falar', 'olhar', 'outro', 'sei', 'pessoas', 'isto', 'ouviu', 'madame', 'pedra', 'filch', 'às', 'cada', 'tivesse', 'ano', 'prof', 'ia', 'quirrell', 'meio', 'percy', 'lugar', 'saiu', 'pouco', 'gritou', 'mesa', 'fazendo', 'exclamou', 'talvez', 'tentando', 'direção', 'claro', 'olhou', 'começou', 'suas', 'falou', 'ar', 'quadribol', 'ali', 'primeiro', 'sra', 'dar', 'câmara', 'atrás', 'podia', 'toda', 'corredor', 'assim', 'repente', 'num', 'livros', 'ficar', 'garoto', 'vassoura', 'poderia', 'sabia', 'coisas', 'chapéu', 'são', 'trouxas', 'tenho', 'mundo', 'nós', 'abriu', 'professor', 'boca', 'capa', 'embora', 'bruxo', 'sido', 'minerva', 'virou', 'estão', 'entre', 'vão', 'deles', 'vezes', 'quero', 'cabelos', 'aula', 'outros', 'quanto', 'contra', 'deve', 'gente', 'foram', 'mal', 'eram', 'tia', 'teve', 'mãos', 'ir', 'diário', 'cama', 'petúnia', 'certeza', 'hoje', 'há', 'saber', 'menos', 'aí', 'magia', 'correndo', 'los', 'qualquer', 'pai', 'teria', 'nome', 'pessoa', 'bruxos', 'fosse', 'passar', 'trás', 'livro', 'la', 'primeira', 'seguinte', 'finalmente', 'duas', 'olhando', 'castelo', 'anos', 'entrar', 'lufa', 'queria', 'parede', 'caminho', 'vida', 'numa', 'devia', 'mim', 'meia', 'pelos', 'temos', 'tentou', 'quer', 'vestes', 'aquela', 'realmente', 'janela', 'sentiu', 'logo', 'deixou', 'segundo', 'mcgonagall', 'carta', 'sorriso', 'será', 'nariz', 'voltar', 'família', 'aquele', 'força', 'sair', 'murta', 'nenhum', 'espelho', 'bateu', 'acha', 'uns', 'instante', 'time', 'parou', 'momento', 'menino', 'novo', 'tanto', 'tenha', 'pensar', 'conseguiu', 'passou', 'manhã', 'minutos', 'sangue', 'durante', 'posso', 'quarto', 'este', 'floresta', 'salão', 'cobra', 'braço', 'professora', 'voldemort', 'rua', 'pontos', 'cinco', 'goyle', 'mãe', 'alta', 'seguida', 'contar', 'luz', 'demais', 'essa', 'algum', 'silêncio', 'ouviram', 'pés', 'quatro', 'coruja', 'seria', 'levantou', 'verdade', 'tom', 'entrou', 'pirraça', 'pé', 'caiu', 'enorme', 'garotos', 'apenas', 'tarde', 'andar', 'murmurou', 'dando', 'continuou', 'deixar', 'estivesse', 'fazia', 'sou', 'olívio', 'boa', 'wood', 'ouvir', 'baixo', 'aconteceu', 'todas', 'favor', 'secreta', 'rúbeo', 'encontrar', 'ideia', 'pensou', 'ergueu', 'dela', 'voltou', 'professores', 'banheiro', 'fogo', 'alguns', 'escada', 'diante', 'desde', 'crabbe', 'atenção', 'quê', 'pelas', 'chegar', 'puxou', 'mesma', 'continuava', 'velho', 'corpo', 'disso', 'dez', 'naquele', 'slytherin', 'escuro', 'difícil', 'história', 'teto', 'tornou', 'nick', 'poder', 'costas', 'sim', 'fim', 'falando', 'chegou', 'pudesse', 'horas', 'maior', 'trem', 'pena', 'pareceu', 'parte', 'pernas', 'amigos', 'poção', 'razão', 'tirou', 'armário', 'olhe', 'dizendo', 'feito', 'feitiço', 'muita', 'modo', 'seja', 'dragão', 'jogo', 'cheio', 'granger', 'canino', 'óculos', 'vira', 'trevas', 'pareciam', 'sentou', 'desapareceu', 'esse', 'cair', 'levou', 'comprar', 'perto', 'entrada', 'contou', 'balaço', 'ponta', 'achou', 'parar', 'conseguia', 'grandes', 'preciso', 'última', 'jeito', 'apanhou', 'saíram', 'certo', 'pomfrey', 'esperando', 'colin', 'parecendo', 'caso', 'trasgo', 'nosso', 'sob', 'cartas', 'matar', 'poções', 'comunal', 'agarrou', 'medo', 'aranhas', 'biblioteca', 'natal', 'palavras', 'exatamente', 'sorte', 'umas', 'lareira', 'longe', 'campo', 'paredes', 'bruxas', 'mulher', 'ombro', 'pensando', 'correu', 'guarda', 'qual', 'andando', 'mamãe', 'expressão', 'testa', 'justino', 'aulas', 'vista', 'forte', 'vassouras', 'procurando', 'homem', 'caldeirão', 'tentar', 'feitiços', 'ficaram', 'entraram', 'dedos', 'cadeira', 'ouvi', 'raiva', 'amigo', 'principal', 'berrou', 'encontrou', 'estamos', 'nervoso', 'verde', 'acrescentou', 'pais', 'soltou', 'perguntar', 'parece', 'trabalho', 'faz', 'querer', 'nossa', 'último', 'canto', 'descobrir', 'acontecendo', 'braços', 'simas', 'precisa', 'gilderoy', 'cor', 'feliz', 'fantasma', 'casas', 'gringotes', 'houve', 'porém', 'ra', 'sol', 'sozinho', 'capítulo', 'esta', 'passado', 'possível', 'levar', 'ruído', 'cinquenta', 'menor', 'jamais', 'nenhuma', 'única', 'vermelho', 'têm', 'r', 'parado', 'coração', 'direto', 'apareceu', 'obrigado', 'sentia', 'gostaria', 'banco', 'vê', 'inteira', 'cheia', 'imediatamente', 'furioso', 'rápido', 'sentado', 'viram', 'nor', 'mandou', 'chá', 'achava', 'pior', 'veio', 'cachorro', 'tirar', 'hum', 'começar', 'vinha', 'pomo', 'festa', 'elfo', 'palavra', 'barulho', 'espero', 'acima', 'vendo', 'embaixo', 'ler', 'cozinha', 'podiam', 'bolso', 'dor', 'cuidado', 'famoso', 'loja', 'fundo', 'edwiges', 'passos', 'resto', 'estranha', 'apontando', 'basilisco', 'papai', 'iria', 'cochichou', 'muitos', 'pequeno', 'diretor', 'lembrar', 'gato', 'salto', 'voando', 'meus', 'mágica', 'cabeças', 'tamanho', 'chocolate', 'semana', 'podemos', 'desta', 'provavelmente', 'torre', 'gêmeos', 'lados', 'passaram', 'ansioso', 'lembrou', 'classe', 'podem', 'fofo', 'cicatriz', 'férias', 'flitwick', 'comentou', 'dormitório', 'pôde', 'horrível', 'aluno', 'chegaram', 'comigo', 'aquilo', 'acabara', 'estranho', 'fawkes', 'monitor', 'junto', 'vir', 'ruim', 'herdeiro', 'céu', 'aberta', 'outras', 'esperar', 'sapo', 'aniversário', 'aposto', 'segundos', 'perder', 'suficiente', 'tomar', 'água', 'sorrindo', 'ficando', 'problema', 'apanhar', 'explicou', 'sete', 'saguão', 'dias', 'tanta', 'lúcio', 'ouro', 'corujas', 'seis', 'apontou', 'própria', 'portas', 'dentes', 'próximo', 'flamel', 'mostrar', 'algumas', 'nove', 'abrir', 'jantar', 'lentamente', 'debaixo', 'procurar', 'muitas', 'prata', 'jogadores', 'atirou', 'exceto', 'árvores', 'comer', 'si', 'garota', 'deixando', 'longo', 'usar', 'tipo', 'número', 'elas', 'pediu', 'vontade', 'carlinhos', 'vi', 'enormes', 'afinal', 'vinte', 'vá', 'acreditar', 'forma', 'frio', 'morto', 'caixa', 'norberto', 'reparou', 'nele', 'completamente', 'sussurrou', 'janelas', 'corredores', 'mágicas', 'pescoço', 'conta', 'bastante', 'ernie', 'observando', 'orelhas', 'baixinho', 'percebeu', 'papel', 'longa', 'partida', 'trouxa', 'meninos', 'começaram', 'querido', 'pergunta', 'precisava', 'vindo', 'estivera', 'envelope', 'inteiro', 'leu', 'sinal', 'acabado', 'escuridão', 'língua', 'único', 'simplesmente', 'lançou', 'visto', 'café', 'plataforma', 'batendo', 'bater', 'importante', 'segunda', 'estaria', 'grito', 'nimbus', 'monstro', 'for', 'jogar', 'voar', 'usava', 'aonde', 'ouvido', 'bruxa', 'chamas', 'desculpe', 'sacudiu', 'soube', 'terceiro', 'normal', 'artes', 'fôlego', 'certa', 'tivera', 'dino', 'goles', 'essas', 'geme', 'sensação', 'daqui', 'vários', 'suponho', 'iam', 'lhes', 'manter', 'sério', 'anda', 'ora', 'somente', 'dado', 'presente', 'centímetros', 'esteja', 'explicar', 'nova', 'ombros', 'metade', 'fizeram', 'pele', 'vivo', 'mandar', 'lista', 'espiou', 'escura', 'invisibilidade', 'dinheiro', 'parava', 'erguendo', 'afastou', 'minhas', 'pássaro', 'mergulhou', 'penas', 'filho', 'alfeneiros', 'quis', 'concordou', 'expulso', 'seletor', 'subiram', 'retrato', 'tinta', 'escapar', 'lorde', 'feira', 'tivessem', 'boxe', 'chuva', 'apanhador', 'saindo', 'segurando', 'precisamos', 'dúvida', 'cobras', 'seguro', 'branco', 'dormir', 'sentindo', 'sprout', 'acham', 'através', 'dava', 'unicórnio', 'diz', 'dizia', 'naquela', 'juntos', 'pergaminho', 'próxima', 'som', 'estação', 'doze', 'morte', 'buraco', 'morrer', 'passando', 'pálido', 'gaiola', 'distância', 'esquerda', 'responder', 'sentir', 'olivaras', 'sabem', 'varinhas', 'ala', 'cabana', 'dragões', 'gosto', 'coragem', 'velocidade', 'contente', 'maneira', 'negros', 'baixa', 'velha', 'rosnou', 'vidro', 'resmungou', 'perguntas', 'deixe', 'surpresa', 'semanas', 'corvinal', 'escondido', 'cartão', 'visão', 'velas', 'pequena', 'indo', 'exames', 'ouvidos', 'diga', 'pensei', 'usando', 'foto', 'verão', 'minuto', 'andava', 'desesperado', 'fechou', 'impedir', 'leve', 'madeira', 'gigante', 'taça', 'joelhos', 'londres', 'deitar', 'correr', 'várias', 'nisso', 'sorriu', 'entender', 'árvore', 'além', 'altura', 'chave', 'comida', 'rapidamente', 'ronan', 'próprio', 'perna', 'diferente', 'rir', 'poderes', 'invisível', 'acabou', 'subir', 'rispidez', 'alvo', 'chance', 'espécie', 'trinta', 'hooch', 'fica', 'nela', 'via', 'jardim', 'empurrou', 'onze', 'escrivaninha', 'caça', 'oito', 'animado', 'imaginando', 'srta', 'estômago', 'pó', 'ministério', 'tocou', 'vazia', 'sono', 'parecer', 'bicho', 'ganhou', 'ofegou', 'multidão', 'espiando', 'falava', 'recebeu', 'retrucou', 'n', 'bilhete', 'fila', 'ponto', 'dessas', 'encontraram', 'acontecer', 'deram', 'geral', 'causa', 'prazer', 'barreira', 'lágrimas', 'ligeiramente', 'sibilou', 'ataque', 'pois', 'curvou', 'terminou', 'tal', 'choque', 'irmã', 'aragogue', 'borgin', 'dá', 'firenze', 'relógio', 'mexeu', 'sequer', 'quisesse', 'fique', 'direita', 'arthur', 'nuvens', 'pessoal', 'daquele', 'desaparecer', 'deus', 'apertando', 'achei', 'firmeza', 'cabelo', 'sentar', 'começando', 'aproximou', 'bola', 'fome', 'letivo', 'severo', 'aprender', 'fudge', 'gata', 'página', 'engoliu', 'olhava', 'sendo', 'escadas', 'hospitalar', 'devem', 'esses', 'ouvira', 'conhecer', 'repetiu', 'guardando', 'cena', 'resposta', 'centenas', 'fácil', 'gorda', 'cheiro', 'falta', 'neste', 'vivas', 'estrelas', 'excelente', 'culpa', 'vejo', 'pararam', 'tirando', 'dê', 'olharam', 'gostava', 'fui', 'lembrava', 'lesmas', 'voltaram', 'viva', 'assunto', 'desceu', 'bolas', 'livre', 'tomou', 'mármore', 'branca', 'levado', 'encontrado', 'brilhando', 'existe', 'anunciou', 'binns', 'balaços', 'túnel', 'fotos', 'pratos', 'faziam', 'perdeu', 'deixado', 'algo', 'chamou', 'peças', 'tremendo', 'esticou', 'fizera', 'virar', 'adiantou', 'ganhar', 'seco', 'ai', 'maioria', 'graça', 'querendo', 'alívio', 'fumaça', 's', 'barba', 'pôr', 'esteve', 'chamado', 'deitado', 'estudantes', 'idiota', 'lino', 'esperou', 'observava', 'pânico', 'direito', 'mau', 'terror', 'pretas', 'acordou', 'gemeu', 'casaco', 'deixara', 'lábios', 'novamente', 'menina', 'senhores', 'defesa', 'flint', 'dito', 'ataques', 'diagonal', 'silenciosamente', 'curioso', 'delas', 'roupas', 'meteu', 'risada', 'olho', 'vaso', 'prato', 'lembro', 'agouro', 'pegar', 'esquecera', 'nicolau', 'grupo', 'espere', 'jordan', 'atravessaram', 'hein', 'morreu', 'pendurado', 'pedindo', 'capaz', 'entanto', 'obviamente', 'pronto', 'rindo', 'tive', 'pedir', 'daquela', 'passara', 'creevey', 'abaixo', 'trêmula', 'estávamos', 'perebas', 'fechar', 'coberto', 'encarar', 'simples', 'engraçado', 'errado', 'indicando', 'pacote', 'puxando', 'malão', 'par', 'conseguira', 'imóvel', 'matou', 'roubar', 'peito', 'permissão', 'conseguir', 'acaso', 'dourado', 'satisfeito', 'precisar', 'confusão', 'baixou', 'acordado', 'gritos', 'longbottom', 'diferentes', 'pilha', 'fechada', 'finnigan', 'turbante', 'preso', 'visitar', 'esperança', 'levava', 'irmãos', 'parada', 'voltara', 'sozinhos', 'material', 'tampouco', 'esquisito', 'apertou', 'visível', 'monte', 'subiu', 'xadrez', 'comprido', 'planta', 'sabiam', 'terminar', 'vem', 'viraram', 'ido', 'presa', 'ovo', 'feio', 'série', 'grades', 'beco', 'estremeceu', 'tocar', 'mala', 'ajudar', 'espada', 'olhada', 'continuar', 'vermelha', 'mason', 'correram', 'pedro', 'amanhã', 'seguiu', 'agarrando', 'largou', 'passo', 'gaguejou', 'pedaço', 'particularmente', 'venha', 'metros', 'terrível', 'igual', 'acabar', 'cedo', 'gritando', 'degraus', 'recuou', 'sentados', 'atravessar', 'encontro', 'presentes', 'grampo', 'tomando', 'fala', 'sombras', 'sentido', 'sombra', 'dedo', 'fossem', 'preto', 'receber', 'surpreso', 'perigo', 'sacudindo', 'significa', 'estado', 'pouquinho', 'vozes', 'atravessou', 'orelha', 'séculos', 'novos', 'desses', 'achar', 'desaparecido', 'desagradável', 'cofre', 'medida', 'dirigiu', 'aborrecido', 'seção', 'pegou', 'verdes', 'c', 'saída', 'suspirou', 'folhas', 'estiver', 'chaves', 'deixá', 'suéter', 'aparecer', 'sapos', 'quente', 'espiar', 'furado', 'realidade', 'deixa', 'voou', 'melhores', 'brilhante', 'infeliz', 'las', 'desceram', 'haver', 'fênix', 'mesas', 'escrever', 'mostrou', 'rabo', 'arquibancadas', 'encarou', 'perigoso', 'cano', 'herbologia', 'levantar', 'curva', 'assustado', 'preparar', 'poucos', 'arco', 'chegara', 'monitores', 'conversa', 'azul', 'livrar', 'deviam', 'deveria', 'música', 'mochila', 'mandrágoras', 'chegado', 'nesse', 'palmas', 'levantando', 'imagino', 'comum', 'riu', 'fixos', 'tiveram', 'preocupado', 'fato', 'esforço', 'chamar', 'chega', 'masmorra', 'faria', 'buscar', 'perguntando', 'virando', 'olá', 'famílias', 'trazendo', 'puro', 'somos', 'poderiam', 'disseram', 'segurava', 'deixem', 'conversar', 'prêmio', 'sugeriu', 'baque', 'enfrentar', 'olha', 'acabei', 'largo', 'contrário', 'andou', 'preocupe', 'estrondo', 'atirando', 'esperava', 'óbvio', 'transfiguração', 'demasiado', 'escancarou', 'novas', 'disparou', 'confirmou', 'lua', 'brisa', 'dera', 'marcos', 'desejou', 'terá', 'colunas', 'fantasmas', 'linha', 'altos', 'aposento', 'azuis', 'acontecera', 'escuras', 'duro', 'aqueles', 'filosofal', 'informou', 'lago', 'magro', 'questão', 'duende', 'terra', 'precisam', 'atacar', 'iriam', 'ouvia', 'vinham', 'faça', 'sabemos', 'escreveu', 'entreolharam', 'preocupar', 'neve', 'seguiram', 'máquina', 'aranha', 'pôs', 'masmorras', 'trazia', 'sorria', 'anterior', 'arregalados', 'p', 'mostrando', 'correio', 'possa', 'queriam', 'adiante', 'saia', 'nossas', 'bobagem', 'descer', 'lia', 'voo', 'dono', 'estivessem', 'turma', 'paz', 'gargalhada', 'levá', 'notícia', 'ajuda', 'cem', 'presas', 'rato', 'movimento', 'seguir', 'corrida', 'rostos', 'cheios', 'francamente', 'carrinho', 'breve', 'salvar', 'pesado', 'provar', 'aquelas', 'derrubou', 'imaginar', 'usá', 'tirá', 'mande', 'espanto', 'tempestade', 'irmão', 'vampiros', 'portanto', 'acompanhou', 'afundou', 'banquinho', 'enfiou', 'longas', 'sentaram', 'memória', 'gui', 'rosa', 'devagarinho', 'efeito', 'tenham', 'triste', 'barco', 'acordar', 'ruins', 'saltou', 'morta', 'mês', 'jardins', 'sapatos', 'encantado', 'decididamente', 'estranhamente', 'gostou', 'distante', 'diferença', 'negro', 'dessa', 'gostar', 'alegre', 'horror', 'opinião', 'regulamento', 'jogou', 'olhem', 'dissera', 'feiticexpresso', 'aproximando', 'barriga', 'gramado', 'pressa', 'gritar', 'escorregou', 'proibida', 'cumprimentou', 'jornal', 'tido', 'aguda', 'impedi', 'dizem', 'mexer', 'piscou', 'posição', 'guardar', 'apanhado', 'ossos', 'quinze', 'procura', 'avançou', 'bolo', 'carregava', 'dever', 'mar', 'polissuco', 'roupa', 'sábado', 'comprou', 'pedras', 'alegremente', 'tentava', 'risadinha', 'segredo', 'verificar', 'meter', 'fazem', 'morrido', 'vivos', 'idade', 'estátua', 'sujo', 'torno', 'fraca', 'bacon', 'esperanças', 'começara', 'pia', 'comprida', 'chorando', 'fundos', 'fios', 'olhares', 'senhora', 'jogador', 'arrastando', 'pulso', 'viagem', 'vergonha', 'lembra', 'enxergar', 'encontrei', 'perfeito', 'sonho', 'fingindo', 'fingir', 'calma', 'vento', 'aparência', 'luar', 'televisão', 'firme', 'trouxe', 'ouvindo', 'avisar', 'fiz', 'importa', 'chocado', 'diria', 'seca', 'vermelhos', 'amarelo', 'escutando', 'encontrava', 'humor', 'dali', 'bico', 'clareira', 'almoço', 'longos', 'finch', 'cá', 'continuavam', 'transformar', 'dormindo', 'descobriu', 'acredito', 'bruxaria', 'pudessem', 'negra', 'pudim', 'porco', 'pinças', 'aviso', 'afastando', 'esganiçada', 'controle', 'devo', 'lama', 'feia', 'sussurro', 'lugares', 'asas', 'repentinamente', 'passagem', 'poderoso', 'entrando', 'descoberto', 'fazê', 'consigo', 'bolsos', 'clique', 'empurrando', 'raio', 'vermelhas', 'oposta', 'observou', 'profundamente', 'colegas', 'negras', 'sineta', 'altas', 'casebre', 'balcão', 'narinas', 'fria', 'aceno', 'abaixou', 'haviam', 'manga', 'deixaram', 'excitado', 'passavam', 'pendurada', 'ha', 'laranja', 'salsichas', 'escuros', 'terríveis', 'diabo', 'viver', 'sangues', 'seleção', 'carvalho', 'principalmente', 'escadaria', 'impaciente', 'examinando', 'rouca', 'decidido', 'balizas', 'meses', 'cento', 'passada', 'deveres', 'conseguiam', 'colo', 'embrulho', 'cidade', 'cansado', 'quarta', 'trabalhar', 'repentino', 'estreita', 'tornar', 'aberto', 'uniforme', 'segurança', 'entendeu', 'ovos', 'abertura', 'batida', 'brancos', 'pensamento', 'smeltings', 'bigodes', 'nervosa', 'achando', 'ande', 'batia', 'soubesse', 'brilhava', 'calmamente', 'interrompeu', 'mexendo', 'troféus', 'sir', 'àquela', 'ordem', 'oportunidade', 'fino', 'queremos', 'franzindo', 'sobrancelhas', 'hospital', 'alçapão', 'amiga', 'ficara', 'ansiosa', 'nomeado', 'gnomos', 'expresso', 'bolos', 'treze', 'problemas', 'barão', 'pista', 'impulso', 'mil', 'escondidos', 'suavemente', 'deserto', 'caro', 'gesto', 'treino', 'levantaram', 'cuidar', 'detenção', 'final', 'desculpas', 'galo', 'notas', 'companhia', 'sofá', 'ocupado', 'vulto', 'diziam', 'preta', 'mistério', 'velhas', 'estranhos', 'espiada', 'estranhas', 'm', 'matá', 'fletchley', 'trilha', 'quiser', 'davam', 'saíam', 'esconder', 'moleque', 'boas', 'consegue', 'duelos', 'arregalou', 'fita', 'beber', 'chefe', 'carteira', 'mortos', 'brilho', 'ficava', 'doces', 'pequenos', 'rouco', 'entendo', 'cavalo', 'caras', 'perceber', 'flu', 'uso', 'ótimo', 'fina', 'queixo', 'lábio', 'plantas', 'cauda', 'tivemos', 'abrindo', 'respiração', 'evitar', 'neles', 'imagem', 'ontem', 'abafadores', 'zangado', 'irmos', 'maiores', 'segurou', 'brancas', 'clube', 'bastão', 'páginas', 'caindo', 'gole', 'corria', 'meias', 'repetir', 'doméstico', 'fraco', 'dippet', 'pagar', 'apanhando', 'estufa', 'baixando', 'jogando', 'fotografias', 'lobisomem', 'chamada', 'argo', 'tabuleiro', 'sente', 'pare', 'rapaz', 'cabine', 'impressão', 'fico', 'salgueiro', 'ganhei', 'respeito', 'mandá', 'ensinar', 'especial', 'fúria', 'estendeu', 'carregando', 'douradas', 'fechadura', 'vestiário', 'futuro', 'conselho', 'últimos', 'pulou', 'esqueceu', 'examinou', 'pensava', 'costume', 'perda', 'balançando', 'agarrar', 'desejando', 'fechando', 'maçaneta', 'praticar', 'alegria', 'trêmulo', 'levando', 'diabretes', 'metro', 'frios', 'intenção', 'senha', 'prateleira', 'chegarem', 'conosco', 'intrigado', 'cintura', 'teremos', 'sabores', 'estive', 'erguer', 'aproximaram', 'quadro', 'entregou', 'passava', 'expulsos', 'mágicos', 'mate', 'estádio', 'partiu', 'comendo', 'explodir', 'subia', 'pares', 'abóbora', 'garrafas', 'azkaban', 'lançar', 'animais', 'veloz', 'cautela', 'querem', 'visitas', 'mente', 'mágico', 'pigarreou', 'salazar', 'segurar', 'conteúdo', 'úmido', 'voltando', 'naturalmente', 'precisou', 'iluminado', 'calor', 'dourada', 'fechados', 'orla', 'nervosos', 'cadeiras', 'abria', 'sentira', 'país', 'conhecia', 'púrpura', 'limão', 'perdido', 'esquecido', 'tantas', 'mudar', 'profeta', 'plano', 'venham', 'derrubar', 'duendes', 'unhas', 'afastar', 'devagar', 'assistir', 'escondendo', 't', 'andavam', 'saírem', 'achavam', 'lojas', 'calcanhares', 'caminharam', 'reservada', 'patrício', 'prateado', 'zangada', 'interior', 'fugir', 'alô', 'iguais', 'excitação', 'ministro', 'contando', 'início', 'praticamente', 'normalmente', 'salas', 'lâmpada', 'subiam', 'esquecer', 'curso', 'falei', 'daí', 'perdendo', 'nuca', 'piscando', 'vazio', 'conseguiram', 'aproximava', 'bateram', 'maluco', 'carne', 'serem', 'bulstrode', 'emília', 'dificuldade', 'caíram', 'absolutamente', 'riso', 'digo', 'tornaram', 'pince', 'interessante', 'escolha', 'conte', 'capas', 'tê', 'mudou', 'útil', 'cores', 'trazer', 'sanduíches', 'período', 'girando', 'depressão', 'diretamente', 'tigela', 'contudo', 'explodiu', 'centauro', 'acidente', 'cantar', 'ana', 'andara', 'fogos', 'cheias', 'cérebro', 'terminaram', 'concentrar', 'galhos', 'sobreviveu', 'conseguisse', 'programa', 'exemplar', 'poltrona', 'apontar', 'consegui', 'notou', 'pego', 'artilheiros', 'recebendo', 'severidade', 'primo', 'sai', 'ajudá', 'partir', 'culpado', 'encarando', 'mínimo', 'pesada', 'examinar', 'espantado', 'fizesse', 'batido', 'ultimamente', 'função', 'nasceu', 'retirar', 'espalhando', 'vestiu', 'pulo', 'interessado', 'acharam', 'talento', 'desdém', 'reverência', 'abafada', 'arranjar', 'lembrol', 'furiosa', 'brincando', 'retirou', 'caminhando', 'sangrento', 'traseiro', 'ocorreu', 'confuso', 'frieza', 'veja', 'd', 'ganhara', 'treinamento', 'pousou', 'névoa', 'significava', 'oi', 'rugiu', 'atacou', 'primeiras', 'selvagem', 'grosso', 'sebe', 'escrevendo', 'meninas', 'derrubando', 'vitória', 'tentara', 'levavam', 'maldoso', 'aplausos', 'bonita', 'travessa', 'proteger', 'olhavam', 'sinto', 'setembro', 'aproximar', 'perdi', 'parecido', 'repentina', 'importantes', 'mandrágora', 'entrementes', 'teriam', 'voador', 'volte', 'fortes', 'acendeu', 'ramos', 'infelizmente', 'destruída', 'saía', 'conhece', 'aperto', 'serviço', 'gigantesco', 'inesperadamente', 'grama', 'motor', 'soltar', 'errol', 'couro', 'castigo', 'cotovelo', 'costelas', 'thomas', 'divertir', 'prateados', 'cinzenta', 'silenciosa', 'doente', 'achamos', 'incrível', 'prateada', 'saberia', 'campeonato', 'receberam', 'gatos', 'nojenta', 'caíra', 'notar', 'encontramos', 'console', 'botas', 'compridas', 'festas', 'mingau', 'ofegante', 'servindo', 'total', 'espírito', 'figg', 'frase', 'metal', 'estudando', 'chaleira', 'distrair', 'balançou', 'silencioso', 'quilômetros', 'vampiro', 'lei', 'especiais', 'começo', 'lutador', 'dormitórios', 'penetrante', 'velhos', 'canos', 'veneno', 'avisando', 'curiosos', 'escolar', 'proibido', 'burro', 'corajoso', 'constrangido', 'entrava', 'interesse', 'preocupação', 'secamente', 'vivia', 'entende', 'rapazes', 'conversando', 'humanos', 'afaste', 'fale', 'quieto', 'letras', 'inteiramente', 'cross', 'brigar', 'aliás', 'jovem', 'íamos', 'apontava', 'caixote', 'abrira', 'acompanharam', 'sólida', 'cobertas', 'atravessando', 'sorvete', 'hesitou', 'recomendou', 'cantando', 'motivo', 'puderam', 'queira', 'boatos', 'pensamentos', 'vociferou', 'mestre', 'calado', 'bule', 'ferocidade', 'focinho', 'certamente', 'geleia', 'preocupada', 'vestia', 'dezesseis', 'esguelha', 'te', 'orgulhoso', 'continua', 'felizmente', 'andei', 'enfiar', 'peso', 'terem', 'lenço', 'quintal', 'ratos', 'muitíssimo', 'tendo', 'enxugando', 'rolo', 'grossa', 'adeus', 'impossível', 'negócios', 'claridade', 'enfeitiçado', 'nossos', 'servir', 'lobisomens', 'corte', 'soluçou', 'nuques', 'quantos', 'perfeitamente', 'grossas', 'mirou', 'vestir', 'abriram', 'lutando', 'trancada', 'brocas', 'devemos', 'apanhe', 'apertar', 'muro', 'marca', 'surdo', 'chato', 'tornozelos', 'careca', 'ingredientes', 'parados', 'continuaram', 'aluna', 'satisfação', 'prontos', 'borrões', 'tornando', 'aproximarem', 'imagine', 'desaparecendo', 'serpente', 'tempos', 'apavorado', 'pontas', 'lampejo', 'houvesse', 'gritaram', 'aparentemente', 'clara', 'atacado', 'pobre', 'carros', 'li', 'vaga', 'bebê', 'mergulho', 'engano', 'floreios', 'mordeu', 'escorregar', 'moedas', 'salvou', 'vestido', 'king', 'lamentou', 'mensagem', 'ei', 'brincadeira', 'pensativo', 'atrasado', 'lívido', 'tranco', 'cavaleiro', 'gosta', 'centro', 'desapareceram', 'esquina', 'propriedade', 'vistos', 'petrificado', 'pude', 'cerimônia', 'plataformas', 'esperem', 'tirado', 'camas', 'filhos', 'lançando', 'catorze', 'gnomo', 'comuns', 'retorquiu', 'molhado', 'piso', 'telefone', 'xícara', 'vozinha', 'quantas', 'garrafa', 'existência', 'limpando', 'barra', 'desse', 'vinho', 'notícias', 'lílian', 'arrancou', 'pessoalmente', 'verdadeiro', 'respirar', 'perambulando', 'lembrança', 'ojesed', 'recuperar', 'entregar', 'engraçada', 'alma', 'treinos', 'vol', 'mora', 'animada', 'situação', 'saiam', 'lixo', 'ergueram', 'distribuindo', 'arrastou', 'paravam', 'fotográfica', 'voltas', 'perdera', 'discutir', 'propósito', 'produziu', 'conheci', 'antigo', 'compridos', 'surgiu', 'goleiro', 'estejam', 'lata', 'gordo', 'malas', 'cujas', 'deslizou', 'precisavam', 'fiquei', 'malkin', 'virado', 'capitão', 'continha', 'pancada', 'decente', 'tremia', 'redondo', 'fiquem', 'transformou', 'genial', 'subindo', 'irritado', 'grave', 'pedaços', 'girou', 'vitrine', 'placa', 'portal', 'puxava', 'faço', 'mencionar', 'pássaros', 'aprendera', 'aborrecida', 'portinhola', 'demorou', 'punhos', 'vindos', 'rápida', 'autografadas', 'discurso', 'prateleiras', 'angelina', 'perguntado', 'sozinha', 'claramente', 'confiar', 'galeões', 'teste', 'observavam', 'guardou', 'oposto', 'desaparecera', 'flutuando', 'sorridente', 'fileira', 'marcha', 'deste', 'tentaram', 'poltronas', 'cortinas', 'exclamação', 'enrolou', 'colocou', 'ecoou', 'garotas', 'jiboia', 'fio', 'corda', 'gostavam', 'raízes', 'seguindo', 'lembrando', 'maciça', 'garras', 'sombrio', 'devíamos', 'triz', 'mexia', 'produzir', 'feitos', 'últimas', 'lamento', 'guia', 'séria', 'lance', 'prova', 'ferido', 'suor', 'inspirou', 'fileiras', 'reunir', 'anunciar', 'admirado', 'estudar', 'cale', 'aborto', 'planetas', 'matéria', 'gigantesca', 'sexta', 'maus', 'queríamos', 'espera', 'cintilantes', 'preocupados', 'binóculo', 'atacante', 'atacada', 'paralisado', 'ecoando', 'menores', 'pergunte', 'risadinhas', 'aprontando', 'viam', 'entrarem', 'abri', 'surgiram', 'errada', 'antigas', 'conheço', 'flauta', 'preparando', 'daria', 'atentamente', 'cobertores', 'percebi', 'cortar', 'torcida', 'abafadas', 'sensato', 'local', 'criar', 'computador', 'armadura', 'tenso', 'atingiu', 'adormecido', 'nomes', 'querida', 'grupos', 'nota', 'molly', 'saco', 'partiram', 'escrevera', 'deslizando', 'rondando', 'famosos', 'profundo', 'jogos', 'chame', 'graças', 'começarem', 'gelada', 'filibusteiro', 'acostumado', 'h', 'garantir', 'prática', 'exibia', 'inútil', 'bronze', 'misterioso', 'movimentos', 'travesseiro', 'estampido', 'fresta', 'parem', 'admira', 'animação', 'cujo', 'senti', 'toca', 'cinzento', 'palha', 'nessa', 'acompanhado', 'morreram', 'tornava', 'milhares', 'duelo', 'entendia', 'latão', 'voltem', 'escondeu', 'escrita', 'cuidadosamente', 'decidida', 'habitual', 'oferecendo', 'faltavam', 'estudo', 'endireitou', 'romênia', 'contava', 'trouxera', 'inteligente', 'pensado', 'suspeita', 'revisões', 'tronco', 'podre', 'bolsa', 'retribuiu', 'herói', 'afastado', 'tiver', 'mostra', 'pedacinhos', 'círculos', 'velozes', 'poderem', 'rosado', 'piores', 'torrada', 'espalhou', 'frutas', 'ganhamos', 'palmadinhas', 'mole', 'mirando', 'interessantes', 'cortina', 'voava', 'mantinha', 'inveja', 'apanhá', 'enganado', 'sinais', 'manda', 'atirar', 'apitar', 'estufas', 'escritório', 'inimigos', 'use', 'rumo', 'invadiu', 'conhecê', 'regras', 'boquiaberto', 'subitamente', 'dormia', 'objetos', 'virava', 'dirigindo', 'aguardava', 'volante', 'segura', 'anão', 'bocado', 'zelador', 'contato', 'expulsar', 'compraram', 'cala', 'arranjou', 'setecentos', 'ajudem', 'gentilmente', 'segredos', 'respirando', 'arregalaram', 'claros', 'rispidamente', 'gaveta', 'assento', 'brilhavam', 'guincho', 'lã', 'campos', 'tratar', 'trasgos', 'mandara', 'favorito', 'descobrisse', 'prestes', 'desanimado', 'informar', 'primeiros', 'criatura', 'objeto', 'ideias', 'embarcar', 'aguentar', 'fronha', 'quarenta', 'louco', 'futebol', 'choro', 'aventura', 'onda', 'assobio', 'reparar', 'circular', 'filha', 'surpreendeu', 'jarra', 'narizes', 'formando', 'estalo', 'comentar', 'tantos', 'bosta', 'espaço', 'abóboras', 'atacando', 'suspeito', 'achado', 'cornélio', 'toque', 'desmontar', 'malões', 'mandado', 'solta', 'cobriu', 'começava', 'disto', 'prender', 'antiga', 'chegando', 'bonito', 'lido', 'engasgou', 'extremidade', 'soluços', 'aros', 'mangas', 'furiosamente', 'enfeitiçar', 'galinha', 'asa', 'acordara', 'matérias', 'gênero', 'aparecesse', 'cão', 'horrorizado', 'alícia', 'cobre', 'vigiando', 'spinnet', 'guinchou', 'começado', 'tinteiro', 'tocando', 'trazido', 'ordenou', 'padrão', 'cinzas', 'letreiro', 'pararem', 'torto', 'berros', 'exemplo', 'belo', 'berrador', 'acompanhar', 'coco', 'abertos', 'encheu', 'vimos', 'escorregando', 'reconheceu', 'avó', 'peluda', 'posse', 'decidir', 'escrito', 'peguei', 'sentava', 'esqueçam', 'cavalheiro', 'espalhava', 'precipitou', 'alcance', 'acenou', 'forno', 'porquê', 'chapéus', 'cutucando', 'montanha', 'trancado', 'montado', 'homens', 'letra', 'escorrendo', 'chamá', 'crime', 'puder', 'montar', 'termina', 'caçoou', 'enfim', 'borda', 'peludo', 'poltergeist', 'bengala', 'estará', 'desejo', 'rochedo', 'figurinha', 'tios', 'porção', 'roxas', 'pareceram', 'ensina', 'experimente', 'cordas', 'orfanato', 'pretos', 'vagonete', 'agarrá', 'bilhetes', 'terceira', 'sentiram', 'pio', 'arrastada', 'descontar', 'quadra', 'esperaram', 'caramelo', 'queda', 'tristeza', 'lençóis', 'apanhada', 'cereal', 'pensa', 'acompanhando', 'juntas', 'frigideira', 'poderosa', 'contas', 'discussão', 'fazerem', 'agradável', 'visita', 'monstros', 'redondos', 'bolinha', 'esporte', 'apanhara', 'vim', 'petrificados', 'pastelão', 'licença', 'marcar', 'sugiro', 'bombinhas', 'apressar', 'reuniram', 'alcançou', 'centauros', 'moto', 'protegendo', 'conversavam', 'trovejou', 'sufocado', 'pegos', 'unicórnios', 'quatrocentos', 'esvaziar', 'agarre', 'sobrinho', 'retratos', 'vestida', 'perderam', 'ruídos', 'continuam', 'agradecer', 'bicicleta', 'lanterna', 'feijõezinhos', 'frequência', 'contaram', 'caixas', 'inacreditável', 'indicou', 'passagens', 'devolver', 'elixir', 'banquete', 'tortinhas', 'trocar', 'largas', 'controlar', 'diggle', 'desaparecia', 'acontece', 'ansiedade', 'cálices', 'encontrara', 'sanitário', 'jogada', 'tirei', 'bobagens', 'pingo', 'sentada', 'veias', 'felicidade', 'seguirem', 'odiava', 'intervalo', 'estarei', 'chorar', 'haveria', 'debruçou', 'puderem', 'ficavam', 'quinto', 'farfalhar', 'gêmeo', 'biscoitos', 'apagou', 'guida', 'tiago', 'embalagem', 'assuntos', 'bum', 'restante', 'aspecto', 'relação', 'atreve', 'sorvetes', 'decidiu', 'encrenca', 'borracha', 'provável', 'andares', 'atingir', 'ligeiro', 'tsk', 'estariam', 'irromperam', 'trabalhando', 'pesadelo', 'garagem', 'painel', 'distintivo', 'tentei', 'comentários', 'odeia', 'escondia', 'frascos', 'detesta', 'contei', 'esperançoso', 'piscar', 'gemido', 'balançava', 'lateral', 'forças', 'figura', 'matando', 'podíamos', 'chegada', 'encosta', 'imponente', 'estivemos', 'largando', 'taças', 'presos', 'remendado', 'tínhamos', 'donos', 'falara', 'mato', 'suficientemente', 'emprestado', 'flores', 'natural', 'conhecido', 'piscadela', 'perigosa', 'zoológico', 'ouve', 'faminto', 'deitou', 'cobrindo', 'caminhavam', 'salvo', 'arma', 'besouro', 'forçar', 'conforme', 'desmaiar', 'próximas', 'cansados', 'riram', 'esticar', 'garra', 'veludo', 'fugindo', 'prendendo', 'legal', 'sorrir', 'peixe', 'fração', 'esqueci', 'tossiu', 'dei', 'passa', 'sejam', 'vale', 'recebera', 'convidou', 'ridículo', 'mergulhar', 'densa', 'pertence', 'pilhas', 'causar', 'compras', 'procurava', 'pendiam', 'manchado', 'iluminada', 'gritava', 'tonto', 'prendeu', 'dura', 'fuligem', 'tome', 'clareza', 'escolher', 'esmeralda', 'susto', 'proteção', 'luzes', 'metrô', 'abandonou', 'felizes', 'cofres', 'devolveu', 'únicos', 'quantidade', 'autor', 'aglomeração', 'abaixando', 'levara', 'homenzinho', 'recuando', 'murmurando', 'cobertos', 'calmo', 'pedia', 'coleção', 'terei', 'rugido', 'ofereceu', 'horta', 'ponha', 'esperasse', 'atordoado', 'acenando', 'mesmos', 'centímetro', 'contado', 'encontrá', 'aborrecer', 'suado', 'suco', 'penhasco', 'quietos', 'caído', 'uau', 'afiados', 'tremer', 'chegamos', 'limpo', 'quieta', 'estoque', 'fascinante', 'àquele', 'dúzia', 'sicles', 'guardado', 'viajar', 'provas', 'resultado', 'acordaram', 'quebrou', 'resmungando', 'inerte', 'bagagem', 'fã', 'admirou', 'mandaram', 'excursões', 'maneiras', 'adesiva', 'enfiando', 'amor', 'acredita', 'brilhar', 'ficado', 'sabendo', 'enrolar', 'estantes', 'lenda', 'contemplou', 'existia', 'data', 'cartões', 'fatos', 'giz', 'estudou', 'época', 'confiança', 'haja', 'parvati', 'manteve', 'valia', 'usa', 'contara', 'engolir', 'simpático', 'desconfiada', 'rainha', 'patas', 'palmadinha', 'escutar', 'ronco', 'pressuroso', 'apalpou', 'incapaz', 'contorceu', 'mentira', 'observar', 'pausa', 'fecharam', 'procurou', 'patil', 'mínima', 'quebrado', 'atacá', 'crescer', 'punho', 'enganar', 'lenta', 'plástico', 'deparou', 'esfregando', 'dobrar', 'certificar', 'encarrapitado', 'caldeirões', 'quais', 'inchar', 'criado', 'macmillan', 'perplexo', 'brasil', 'rumou', 'desviou', 'puxar', 'joelho', 'brigando', 'lutar', 'esquisita', 'vissem', 'chances', 'deprimido', 'poderíamos', 'restava', 'fungou', 'garganta', 'acompanhá', 'pronta', 'nascidos', 'vencer', 'pucey', 'sessenta', 'apito', 'orgulho', 'calças', 'pátio', 'caracol', 'chamam', 'batedores', 'apanhadores', 'súbito', 'compreendo', 'ganha', 'tomado', 'desvencilhar', 'mortal', 'johnson', 'começa', 'arrancando', 'suja', 'escapou', 'ganhado', 'montou', 'órbitas', 'iluminava', 'times', 'bondade', 'produzindo', 'véspera', 'hesitante', 'autografar', 'irrompeu', 'parara', 'membro', 'ambição', 'recolheu', 'assustou', 'coberta', 'nesta', 'peço', 'sacudir', 'direções', 'experiência', 'aparecia', 'piada', 'cambaleou', 'amanhecer', 'parando', 'correntes', 'coma', 'reluzente', 'mergulhando', 'correspondência', 'resultados', 'caçoar', 'tijolo', 'preparou', 'bochecha', 'cerca', 'lendo', 'criaturas', 'próprios', 'soltando', 'caía', 'dança', 'frei', 'demorar', 'lembre', 'macia', 'luta', 'suspiro', 'serve', 'bacia', 'caçar', 'quadradinhos', 'saiba', 'arriscar', 'pondo', 'ânimo', 'serviços', 'prestados', 'úmida', 'pálida', 'balas', 'andado', 'pesar', 'amarelos', 'visgo'], len(chaves): 3263\n"
     ]
    }
   ],
   "source": [
    "def get_word(word):\n",
    "    try:\n",
    "        return model.wv[word]\n",
    "    except KeyError:\n",
    "        print(\"The word '\"+word+\"' does not appear in this model\")\n",
    "\n",
    "word = \"harry\"\n",
    "print(f\"vetor da palavra {word}: {get_word(word)}\")\n",
    "\n",
    "print(f\"tamanho do vocabulário: {len(model.wv)}\")\n",
    "\n",
    "print(f\"chaves: {model.wv.index_to_key}, len(chaves): {len(model.wv.index_to_key)}\")"
   ]
  },
  {
   "cell_type": "code",
   "execution_count": 15,
   "id": "570ca921",
   "metadata": {},
   "outputs": [
    {
     "name": "stdout",
     "output_type": "stream",
     "text": [
      "palavra similares a harry:[('neville', 0.6506326198577881), ('mione', 0.6471115350723267), ('ele', 0.6309111714363098), ('draco', 0.6279397010803223), ('hermione', 0.569290816783905), ('quirrell', 0.5679391622543335), ('rony', 0.5627921223640442), ('furioso', 0.5605807900428772), ('ansioso', 0.5480078458786011), ('hagrid', 0.54135662317276)]\n",
      "similaridade entre harry e dobby: 0.36009249091148376\n"
     ]
    }
   ],
   "source": [
    "word = 'harry'\n",
    "print(f\"palavra similares a {word}:{model.wv.most_similar(word)}\")\n",
    "\n",
    "#print(model.wv.most_similar(positive=['king', 'woman'], negative=['man']))\n",
    "\n",
    "#print(model.wv.similarity('harry','havgrid'))\n",
    "\n",
    "word1= 'harry'\n",
    "word2 = 'dobby'\n",
    "print(f\"similaridade entre {word1} e {word2}: {model.wv.similarity(word1,word2)}\")"
   ]
  },
  {
   "cell_type": "code",
   "execution_count": null,
   "id": "5cdfde0a",
   "metadata": {},
   "outputs": [],
   "source": [
    "#Para guardar o modelo\n",
    "\n",
    "#model.wv.save_word2vec_format('model_barry.txt',binary = False)\n",
    "\n",
    "\n",
    "# No terminal depois fazer: python -m gensim.scripts.word2vec2tensor -i model_barry.txt -o model_barry e vai criar os ficheiros tensor e metadata para colocar no http seguinte:\n",
    "#https://projector.tensorflow.org\n"
   ]
  },
  {
   "cell_type": "code",
   "execution_count": 45,
   "id": "02bd8c77",
   "metadata": {},
   "outputs": [
    {
     "data": {
      "text/plain": [
       "[('escola', 0.8521685004234314),\n",
       " ('sonserina', 0.8346917033195496),\n",
       " ('usar', 0.8305774927139282),\n",
       " ('escondido', 0.8069193959236145),\n",
       " ('seção', 0.7950572967529297),\n",
       " ('ministro', 0.765231728553772),\n",
       " ('casa', 0.7650980949401855),\n",
       " ('quadribol', 0.7621254324913025),\n",
       " ('reservada', 0.7567346096038818),\n",
       " ('taça', 0.7554255723953247)]"
      ]
     },
     "execution_count": 45,
     "metadata": {},
     "output_type": "execute_result"
    }
   ],
   "source": [
    "model.wv.most_similar(\"magia\")"
   ]
  },
  {
   "cell_type": "code",
   "execution_count": 46,
   "id": "58ea2c27",
   "metadata": {},
   "outputs": [
    {
     "data": {
      "text/plain": [
       "[('mão', 0.8651896715164185),\n",
       " ('boca', 0.8623641729354858),\n",
       " ('vassoura', 0.8011002540588379),\n",
       " ('raiva', 0.7804672122001648),\n",
       " ('cabeça', 0.7672806978225708),\n",
       " ('nuca', 0.7514667510986328),\n",
       " ('testa', 0.7420324683189392),\n",
       " ('visão', 0.7399470210075378),\n",
       " ('cara', 0.7350703477859497),\n",
       " ('capa', 0.7331789135932922)]"
      ]
     },
     "execution_count": 46,
     "metadata": {},
     "output_type": "execute_result"
    }
   ],
   "source": [
    "model.wv.most_similar(\"varinha\")"
   ]
  },
  {
   "cell_type": "code",
   "execution_count": 48,
   "id": "4adb19d8",
   "metadata": {},
   "outputs": [
    {
     "data": {
      "text/plain": [
       "[('lufa', 0.6450467705726624),\n",
       " ('sonserina', 0.6298632621765137),\n",
       " ('corvinal', 0.6073724031448364),\n",
       " ('pontos', 0.5893895626068115),\n",
       " ('magia', 0.5710559487342834),\n",
       " ('sair', 0.5691394209861755),\n",
       " ('capitão', 0.565392017364502),\n",
       " ('membro', 0.5632210373878479),\n",
       " ('posse', 0.5358288288116455),\n",
       " ('torre', 0.5316007733345032)]"
      ]
     },
     "execution_count": 48,
     "metadata": {},
     "output_type": "execute_result"
    }
   ],
   "source": [
    "model.wv.most_similar(positive=[\"draco\", \"grifinória\"], negative=[\"harry\"])"
   ]
  },
  {
   "cell_type": "code",
   "execution_count": null,
   "id": "27f52782",
   "metadata": {},
   "outputs": [
    {
     "name": "stdout",
     "output_type": "stream",
     "text": [
      "similaridade entre voldemort e perigo: 0.6801784038543701\n"
     ]
    }
   ],
   "source": [
    "# Relação entre voldemort e perigo. bruxo extremamente poderoso, temido por muitos devido à sua busca implacável por poder, imortalidade e domínio do mundo bruxo.\n",
    "word1= 'voldemort'\n",
    "word2 = 'perigo'\n",
    "print(f\"similaridade entre {word1} e {word2}: {model.wv.similarity(word1,word2)}\")"
   ]
  },
  {
   "cell_type": "code",
   "execution_count": null,
   "id": "9608b6d3",
   "metadata": {},
   "outputs": [
    {
     "data": {
      "text/plain": [
       "[('tom', 0.6563527584075928),\n",
       " ('alvo', 0.6521009802818298),\n",
       " ('gringotes', 0.6315924525260925),\n",
       " ('engraçado', 0.6292930245399475),\n",
       " ('problema', 0.6085200309753418),\n",
       " ('diretor', 0.6060552597045898),\n",
       " ('famoso', 0.5943508744239807),\n",
       " ('nome', 0.5844963788986206),\n",
       " ('único', 0.5829630494117737),\n",
       " ('ai', 0.5819411277770996)]"
      ]
     },
     "execution_count": 25,
     "metadata": {},
     "output_type": "execute_result"
    }
   ],
   "source": [
    "model.wv.most_similar(positive=[\"hogwarts\", \"professor\"], negative=[\"escola\"])"
   ]
  },
  {
   "cell_type": "code",
   "execution_count": null,
   "id": "5d164de9",
   "metadata": {},
   "outputs": [
    {
     "data": {
      "text/plain": [
       "[('rúbeo', 0.6316468715667725),\n",
       " ('dumbledore', 0.6284853219985962),\n",
       " ('mim', 0.6197583079338074),\n",
       " ('quem', 0.6038243174552917),\n",
       " ('sim', 0.5754674077033997),\n",
       " ('papai', 0.5699341893196106),\n",
       " ('senhor', 0.5652090311050415),\n",
       " ('tom', 0.5648303627967834),\n",
       " ('morrer', 0.5603104829788208),\n",
       " ('ah', 0.5518695712089539)]"
      ]
     },
     "execution_count": 26,
     "metadata": {},
     "output_type": "execute_result"
    }
   ],
   "source": [
    "model.wv.most_similar(positive=[\"hogwarts\", \"professor\"], negative=[\"aluno\"])"
   ]
  }
 ],
 "metadata": {
  "kernelspec": {
   "display_name": "Python 3",
   "language": "python",
   "name": "python3"
  },
  "language_info": {
   "codemirror_mode": {
    "name": "ipython",
    "version": 3
   },
   "file_extension": ".py",
   "mimetype": "text/x-python",
   "name": "python",
   "nbconvert_exporter": "python",
   "pygments_lexer": "ipython3",
   "version": "3.10.11"
  }
 },
 "nbformat": 4,
 "nbformat_minor": 5
}
